{
 "cells": [
  {
   "cell_type": "code",
   "execution_count": null,
   "id": "79178cfa",
   "metadata": {},
   "outputs": [],
   "source": [
    "import tracit.dynamics as dynamics\n",
    "import numpy as np\n",
    "import matplotlib.pyplot as plt\n",
    "import os\n",
    "import time\n",
    "import requests\n",
    "import pandas as pd\n",
    "# download the obliquity data from the website\n",
    "\n",
    "\n",
    "name = 'pscomppars.csv'\n",
    "date = time.strftime(\"%Y-%m-%d\", time.localtime())\n",
    "dated_name = 'pscomppars_'+date+'.csv'\n",
    "# check if the file exists\n",
    "if os.path.exists(dated_name):\n",
    "    print(dated_name+' exists')\n",
    "else:\n",
    "    target_url = 'https://exoplanetarchive.ipac.caltech.edu/TAP/sync?query=select+*+from+pscomppars&format=csv'\n",
    "    response = requests.get(target_url)\n",
    "    data = response.text\n",
    "    print('downloading '+dated_name)\n",
    "    with open(dated_name, 'w') as f:\n",
    "        print(data, file=f)\n",
    "pscomppars_table = pd.read_csv('pscomppars_'+date+'.csv', comment='#')\n",
    "import os\n",
    "os.system('rm pscomppars_'+date+'.csv')\n",
    "\n",
    "    \n",
    "    \n",
    "    "
   ]
  }
 ],
 "metadata": {
  "language_info": {
   "name": "python"
  }
 },
 "nbformat": 4,
 "nbformat_minor": 5
}
